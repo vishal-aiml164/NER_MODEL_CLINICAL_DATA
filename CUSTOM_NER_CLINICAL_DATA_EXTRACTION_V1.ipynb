{
  "nbformat": 4,
  "nbformat_minor": 0,
  "metadata": {
    "colab": {
      "name": "CUSTOM_NER_CLINICAL_DATA_EXTRACTION_V1.ipynb",
      "provenance": [],
      "collapsed_sections": []
    },
    "kernelspec": {
      "name": "python3",
      "display_name": "Python 3"
    },
    "language_info": {
      "name": "python"
    }
  },
  "cells": [
    {
      "cell_type": "markdown",
      "metadata": {
        "id": "Y6HEgDs7IYAM"
      },
      "source": [
        "# This Notebook shows how to build a NER Model in detail:\n",
        "### 1. Importing required Libraries\n",
        "### 2. Building a function to convert data to spaCy format\n",
        "### 3. Check a train data point on how it looks like\n",
        "### 4. Training a spaCy model\n",
        "### 5. Loading the model and testing(inference)\n"
      ]
    },
    {
      "cell_type": "markdown",
      "metadata": {
        "id": "EL05HISnNX_8"
      },
      "source": [
        "## **1. Import Libraries**"
      ]
    },
    {
      "cell_type": "code",
      "metadata": {
        "id": "Me7VouyvIWi2"
      },
      "source": [
        "#Import all required libraries\n",
        "import spacy\n",
        "import random\n",
        "import time\n",
        "import numpy as np\n",
        "from spacy.util import minibatch, compounding\n",
        "import sys\n",
        "from spacy import displacy\n",
        "from itertools import chain\n",
        "import matplotlib.pyplot as plt \n",
        "from matplotlib.ticker import MaxNLocator"
      ],
      "execution_count": 2,
      "outputs": []
    },
    {
      "cell_type": "markdown",
      "metadata": {
        "id": "LfQKE9LgINew"
      },
      "source": [
        "## **2. Building function to Convert Data from file into the required format for spaCy**"
      ]
    },
    {
      "cell_type": "code",
      "metadata": {
        "id": "PmHVOQZOfDQ_"
      },
      "source": [
        "def conv_data_to_spacy(file_path):\n",
        "    ''' This function converts data from BIO format as we have seen above to spacy format:\n",
        "    -> (sentence, {entities : [(start, end, label), (stard, end, label)]})\n",
        "    '''\n",
        "    file = open(file_path, 'r')\n",
        "    training_data, entities, sentence, unique_labels = [], [], [], []\n",
        "    current_annotation = None\n",
        "    start =0\n",
        "    end = 0 # initialize counter to keep track of start and end characters\n",
        "    for line in file:\n",
        "        line = line.strip(\"\\n\").split(\"\\t\")\n",
        "        # lines with len > 1 are words\n",
        "        if len(line) > 1:\n",
        "            label = line[1]\n",
        "            if(label != 'O'):\n",
        "                # Appending _Disease for B and I Labels for better representation\n",
        "                label = line[1]+\"_Disease\" # the .txt is formatted: label \\t word, label[0:2] = label_type\n",
        "            #label_type = line[0][0] # beginning of annotations - \"B\", intermediate - \"I\"\n",
        "            word = line[0]\n",
        "            sentence.append(word)\n",
        "            start = end\n",
        "            end += (len(word) + 1)  # length of the word + trailing space\n",
        "           \n",
        "            if label == 'I_Disease' :  # if at the end of an annotation\n",
        "                entities.append(( start,end-1, label))  # append the annotation\n",
        "                              \n",
        "            if label == 'B_Disease':                         # if beginning new annotation\n",
        "                entities.append(( start,end-1, label))# start annotation at beginning of word                          \n",
        "           \n",
        "            if label != 'O' and label not in unique_labels:\n",
        "                unique_labels.append(label)\n",
        " \n",
        "        # lines with len == 1 are breaks between sentences\n",
        "        if len(line) == 1:\n",
        "            if(len(entities) > 0):\n",
        "                sentence = \" \".join(sentence)\n",
        "                training_data.append([sentence, {'entities' : entities}])\n",
        "            # reset the counters and temporary lists\n",
        "            end = 0 \n",
        "            start = 0\n",
        "            entities, sentence = [], []\n",
        "            \n",
        "    file.close()\n",
        "    return training_data, unique_labels\n"
      ],
      "execution_count": 3,
      "outputs": []
    },
    {
      "cell_type": "code",
      "metadata": {
        "colab": {
          "base_uri": "https://localhost:8080/"
        },
        "id": "h7vRoVsXfF1u",
        "outputId": "d217d768-9861-47ab-dc17-65306f59cad0"
      },
      "source": [
        "TRAIN_DATA, LABELS = conv_data_to_spacy(\"/content/train.tsv\")\n",
        "#print('Sample data point:',TRAIN_DATA[5])\n",
        "print('Train Data Len:',len(TRAIN_DATA))\n",
        "TEST_DATA, _ = conv_data_to_spacy(\"/content/test.tsv\")\n",
        "print('Test Data Len:',len(TEST_DATA))\n",
        "VALID_DATA, _ = conv_data_to_spacy(\"/content/train_dev.tsv\")\n",
        "print('Validation Data Len:',len(VALID_DATA))"
      ],
      "execution_count": 4,
      "outputs": [
        {
          "output_type": "stream",
          "name": "stdout",
          "text": [
            "Train Data Len: 2658\n",
            "Test Data Len: 2842\n",
            "Validation Data Len: 5385\n"
          ]
        }
      ]
    },
    {
      "cell_type": "markdown",
      "metadata": {
        "id": "aaI8_fd6Nua-"
      },
      "source": [
        "## **3. Checking a training point on how it looks like**"
      ]
    },
    {
      "cell_type": "code",
      "metadata": {
        "colab": {
          "base_uri": "https://localhost:8080/"
        },
        "id": "BLCEaXp0GcBY",
        "outputId": "f9ab4d75-691f-4503-dd6e-62b26834ecc1"
      },
      "source": [
        "print(TRAIN_DATA[6])"
      ],
      "execution_count": 5,
      "outputs": [
        {
          "output_type": "stream",
          "name": "stdout",
          "text": [
            "['A lesser degree of orthostatic hypotension occurred with standing .', {'entities': [(19, 30, 'B_Disease'), (31, 42, 'I_Disease')]}]\n"
          ]
        }
      ]
    },
    {
      "cell_type": "code",
      "metadata": {
        "id": "Sew8yYfWg4Qc"
      },
      "source": [
        "!python -m spacy download en_core_web_md"
      ],
      "execution_count": null,
      "outputs": []
    },
    {
      "cell_type": "markdown",
      "metadata": {
        "id": "f36p1lVfOnIm"
      },
      "source": [
        "**Here we are taking the below English train pipeline for our NER training. It is trained on English core vocabulary and its size is medium**"
      ]
    },
    {
      "cell_type": "code",
      "metadata": {
        "id": "-GIlGEcbhs_2"
      },
      "source": [
        "import en_core_web_md\n",
        "nlp = en_core_web_md.load()"
      ],
      "execution_count": 7,
      "outputs": []
    },
    {
      "cell_type": "code",
      "metadata": {
        "colab": {
          "base_uri": "https://localhost:8080/"
        },
        "id": "LRdIfnMzPFLI",
        "outputId": "8a292bb0-935b-4f44-9081-66c22299ff33"
      },
      "source": [
        "LABELS"
      ],
      "execution_count": 8,
      "outputs": [
        {
          "output_type": "execute_result",
          "data": {
            "text/plain": [
              "['B_Disease', 'I_Disease']"
            ]
          },
          "metadata": {},
          "execution_count": 8
        }
      ]
    },
    {
      "cell_type": "markdown",
      "metadata": {
        "id": "UBDfpZCD7RPo"
      },
      "source": [
        "## **4. Training a spaCy model**"
      ]
    },
    {
      "cell_type": "code",
      "metadata": {
        "id": "pyoIo9Z2gryY"
      },
      "source": [
        "from tqdm import tqdm\n",
        "def training_spacy_model(train_data, labels, iterations):\n",
        "    ''' This Function helps in Training the spacy NER model, \n",
        "    which takes the 3 parameters :train_data, labels , iterations \n",
        "    '''\n",
        "    nlp = en_core_web_md.load()\n",
        "    #nlp = spacy.blank('en')\n",
        "    if 'ner' not in nlp.pipe_names:\n",
        "        ner = nlp.create_pipe('ner')\n",
        "        nlp.add_pipe(ner)\n",
        "    else:\n",
        "        ner = nlp.get_pipe(\"ner\")\n",
        "   \n",
        "    # Add entity labels to the NER pipeline\n",
        "    for i in labels:\n",
        "        ner.add_label(i)\n",
        "\n",
        "    # Disable other pipelines in SpaCy to only train NER\n",
        "    other_pipes = [pipe for pipe in nlp.pipe_names if pipe != 'ner']\n",
        "    with nlp.disable_pipes(*other_pipes):\n",
        "        #nlp.vocab.vectors.name = 'spacy_model' # without this, spaCy throws an \"unnamed\" error\n",
        "        optimizer = nlp.begin_training()\n",
        "        for itr in tqdm(range(iterations)):\n",
        "            random.shuffle(train_data) # shuffle the training data before each iteration\n",
        "            losses = {}\n",
        "            batches = minibatch(train_data, size = compounding(16.0, 64.0, 1.5))\n",
        "            for batch in batches:\n",
        "                texts, annotations = zip(*batch)\n",
        "                nlp.update(          \n",
        "                    texts,\n",
        "                    annotations, \n",
        "                    sgd = optimizer,\n",
        "                    losses = losses)\n",
        "            print('=======================================')\n",
        "            print('Interation = '+str(itr))\n",
        "            print('Losses = '+str(losses))          \n",
        "    return nlp"
      ],
      "execution_count": 9,
      "outputs": []
    },
    {
      "cell_type": "code",
      "metadata": {
        "colab": {
          "base_uri": "https://localhost:8080/"
        },
        "id": "5SvE0PkKgtsf",
        "outputId": "579468cb-923e-4dd8-dde8-8c91b9a219f7"
      },
      "source": [
        "# Train (and save) the NER model\n",
        "ner = training_spacy_model(TRAIN_DATA, LABELS,20)\n",
        "ner.to_disk(\"/content/spacy_example\")"
      ],
      "execution_count": 10,
      "outputs": [
        {
          "output_type": "stream",
          "name": "stderr",
          "text": [
            "  5%|▌         | 1/20 [00:09<03:04,  9.70s/it]"
          ]
        },
        {
          "output_type": "stream",
          "name": "stdout",
          "text": [
            "=======================================\n",
            "Interation = 0\n",
            "Losses = {'ner': 9749.123747348785}\n"
          ]
        },
        {
          "output_type": "stream",
          "name": "stderr",
          "text": [
            "\r 10%|█         | 2/20 [00:19<02:53,  9.64s/it]"
          ]
        },
        {
          "output_type": "stream",
          "name": "stdout",
          "text": [
            "=======================================\n",
            "Interation = 1\n",
            "Losses = {'ner': 4495.945324540138}\n"
          ]
        },
        {
          "output_type": "stream",
          "name": "stderr",
          "text": [
            "\r 15%|█▌        | 3/20 [00:28<02:44,  9.65s/it]"
          ]
        },
        {
          "output_type": "stream",
          "name": "stdout",
          "text": [
            "=======================================\n",
            "Interation = 2\n",
            "Losses = {'ner': 2580.298750936985}\n"
          ]
        },
        {
          "output_type": "stream",
          "name": "stderr",
          "text": [
            "\r 20%|██        | 4/20 [00:38<02:33,  9.61s/it]"
          ]
        },
        {
          "output_type": "stream",
          "name": "stdout",
          "text": [
            "=======================================\n",
            "Interation = 3\n",
            "Losses = {'ner': 1414.3167940936983}\n"
          ]
        },
        {
          "output_type": "stream",
          "name": "stderr",
          "text": [
            "\r 25%|██▌       | 5/20 [00:48<02:24,  9.62s/it]"
          ]
        },
        {
          "output_type": "stream",
          "name": "stdout",
          "text": [
            "=======================================\n",
            "Interation = 4\n",
            "Losses = {'ner': 723.3792272889987}\n"
          ]
        },
        {
          "output_type": "stream",
          "name": "stderr",
          "text": [
            "\r 30%|███       | 6/20 [00:57<02:14,  9.61s/it]"
          ]
        },
        {
          "output_type": "stream",
          "name": "stdout",
          "text": [
            "=======================================\n",
            "Interation = 5\n",
            "Losses = {'ner': 423.38887047418393}\n"
          ]
        },
        {
          "output_type": "stream",
          "name": "stderr",
          "text": [
            "\r 35%|███▌      | 7/20 [01:07<02:04,  9.61s/it]"
          ]
        },
        {
          "output_type": "stream",
          "name": "stdout",
          "text": [
            "=======================================\n",
            "Interation = 6\n",
            "Losses = {'ner': 289.45202455000253}\n"
          ]
        },
        {
          "output_type": "stream",
          "name": "stderr",
          "text": [
            "\r 40%|████      | 8/20 [01:16<01:55,  9.62s/it]"
          ]
        },
        {
          "output_type": "stream",
          "name": "stdout",
          "text": [
            "=======================================\n",
            "Interation = 7\n",
            "Losses = {'ner': 231.10180060937435}\n"
          ]
        },
        {
          "output_type": "stream",
          "name": "stderr",
          "text": [
            "\r 45%|████▌     | 9/20 [01:26<01:45,  9.60s/it]"
          ]
        },
        {
          "output_type": "stream",
          "name": "stdout",
          "text": [
            "=======================================\n",
            "Interation = 8\n",
            "Losses = {'ner': 156.96646079645507}\n"
          ]
        },
        {
          "output_type": "stream",
          "name": "stderr",
          "text": [
            "\r 50%|█████     | 10/20 [01:36<01:35,  9.58s/it]"
          ]
        },
        {
          "output_type": "stream",
          "name": "stdout",
          "text": [
            "=======================================\n",
            "Interation = 9\n",
            "Losses = {'ner': 97.82159840232464}\n"
          ]
        },
        {
          "output_type": "stream",
          "name": "stderr",
          "text": [
            "\r 55%|█████▌    | 11/20 [01:45<01:26,  9.61s/it]"
          ]
        },
        {
          "output_type": "stream",
          "name": "stdout",
          "text": [
            "=======================================\n",
            "Interation = 10\n",
            "Losses = {'ner': 64.53473079473358}\n"
          ]
        },
        {
          "output_type": "stream",
          "name": "stderr",
          "text": [
            "\r 60%|██████    | 12/20 [01:55<01:16,  9.60s/it]"
          ]
        },
        {
          "output_type": "stream",
          "name": "stdout",
          "text": [
            "=======================================\n",
            "Interation = 11\n",
            "Losses = {'ner': 87.70119817845813}\n"
          ]
        },
        {
          "output_type": "stream",
          "name": "stderr",
          "text": [
            "\r 65%|██████▌   | 13/20 [02:04<01:07,  9.60s/it]"
          ]
        },
        {
          "output_type": "stream",
          "name": "stdout",
          "text": [
            "=======================================\n",
            "Interation = 12\n",
            "Losses = {'ner': 75.62512510835165}\n"
          ]
        },
        {
          "output_type": "stream",
          "name": "stderr",
          "text": [
            "\r 70%|███████   | 14/20 [02:14<00:57,  9.59s/it]"
          ]
        },
        {
          "output_type": "stream",
          "name": "stdout",
          "text": [
            "=======================================\n",
            "Interation = 13\n",
            "Losses = {'ner': 109.66773063632965}\n"
          ]
        },
        {
          "output_type": "stream",
          "name": "stderr",
          "text": [
            "\r 75%|███████▌  | 15/20 [02:24<00:47,  9.58s/it]"
          ]
        },
        {
          "output_type": "stream",
          "name": "stdout",
          "text": [
            "=======================================\n",
            "Interation = 14\n",
            "Losses = {'ner': 83.73778630346986}\n"
          ]
        },
        {
          "output_type": "stream",
          "name": "stderr",
          "text": [
            "\r 80%|████████  | 16/20 [02:33<00:38,  9.59s/it]"
          ]
        },
        {
          "output_type": "stream",
          "name": "stdout",
          "text": [
            "=======================================\n",
            "Interation = 15\n",
            "Losses = {'ner': 64.833064871007}\n"
          ]
        },
        {
          "output_type": "stream",
          "name": "stderr",
          "text": [
            "\r 85%|████████▌ | 17/20 [02:43<00:28,  9.60s/it]"
          ]
        },
        {
          "output_type": "stream",
          "name": "stdout",
          "text": [
            "=======================================\n",
            "Interation = 16\n",
            "Losses = {'ner': 48.68512595634855}\n"
          ]
        },
        {
          "output_type": "stream",
          "name": "stderr",
          "text": [
            "\r 90%|█████████ | 18/20 [02:52<00:19,  9.58s/it]"
          ]
        },
        {
          "output_type": "stream",
          "name": "stdout",
          "text": [
            "=======================================\n",
            "Interation = 17\n",
            "Losses = {'ner': 37.1744223605074}\n"
          ]
        },
        {
          "output_type": "stream",
          "name": "stderr",
          "text": [
            "\r 95%|█████████▌| 19/20 [03:02<00:09,  9.58s/it]"
          ]
        },
        {
          "output_type": "stream",
          "name": "stdout",
          "text": [
            "=======================================\n",
            "Interation = 18\n",
            "Losses = {'ner': 36.86741289510065}\n"
          ]
        },
        {
          "output_type": "stream",
          "name": "stderr",
          "text": [
            "100%|██████████| 20/20 [03:11<00:00,  9.59s/it]"
          ]
        },
        {
          "output_type": "stream",
          "name": "stdout",
          "text": [
            "=======================================\n",
            "Interation = 19\n",
            "Losses = {'ner': 43.89871613674764}\n"
          ]
        },
        {
          "output_type": "stream",
          "name": "stderr",
          "text": [
            "\n"
          ]
        }
      ]
    },
    {
      "cell_type": "markdown",
      "metadata": {
        "id": "RedferQn7eZo"
      },
      "source": [
        "## **5. Loading and Testing a spaCy model**"
      ]
    },
    {
      "cell_type": "code",
      "metadata": {
        "id": "f-SKwO8XiIie"
      },
      "source": [
        "def load_model(model_path):\n",
        "    ''' Loads a pre-trained model for prediction on new test sentences   \n",
        "    model_path : directory of model saved by spacy.to_disk\n",
        "    '''\n",
        "    nlp = spacy.blank('en')\n",
        "    if 'ner' not in nlp.pipe_names:\n",
        "        ner = nlp.create_pipe('ner')\n",
        "        nlp.add_pipe(ner)\n",
        "    ner = nlp.from_disk(model_path)\n",
        "    return ner"
      ],
      "execution_count": 11,
      "outputs": []
    },
    {
      "cell_type": "code",
      "metadata": {
        "colab": {
          "base_uri": "https://localhost:8080/",
          "height": 961
        },
        "id": "7T_TxX0fiNsq",
        "outputId": "0de061e1-2651-4a15-bfe0-8a8f2d597868"
      },
      "source": [
        "ner = load_model(\"/content/spacy_example\")\n",
        "\n",
        "test_sentences = [x[0] for x in TEST_DATA[0:5]] # extract the sentences from [sentence, entity]\n",
        "for x in test_sentences:\n",
        "    doc = ner(x)\n",
        "    for ent in doc.ents:\n",
        "        print(ent.text, ent.start_char, ent.end_char, ent.label_)\n",
        "    displacy.render(doc,jupyter=True, style = \"ent\")"
      ],
      "execution_count": 16,
      "outputs": [
        {
          "output_type": "stream",
          "name": "stdout",
          "text": [
            "Torsade 0 7 B_Disease\n",
            "ventricular 19 30 B_Disease\n",
            "tachycardia 31 42 I_Disease\n",
            "dilated 111 118 B_Disease\n",
            "cardiomyopathy 119 133 I_Disease\n",
            "heart 149 154 B_Disease\n",
            "failure 155 162 I_Disease\n"
          ]
        },
        {
          "output_type": "display_data",
          "data": {
            "text/html": [
              "<span class=\"tex2jax_ignore\"><div class=\"entities\" style=\"line-height: 2.5; direction: ltr\">\n",
              "<mark class=\"entity\" style=\"background: #ddd; padding: 0.45em 0.6em; margin: 0 0.25em; line-height: 1; border-radius: 0.35em;\">\n",
              "    Torsade\n",
              "    <span style=\"font-size: 0.8em; font-weight: bold; line-height: 1; border-radius: 0.35em; text-transform: uppercase; vertical-align: middle; margin-left: 0.5rem\">B_Disease</span>\n",
              "</mark>\n",
              " de pointes \n",
              "<mark class=\"entity\" style=\"background: #ddd; padding: 0.45em 0.6em; margin: 0 0.25em; line-height: 1; border-radius: 0.35em;\">\n",
              "    ventricular\n",
              "    <span style=\"font-size: 0.8em; font-weight: bold; line-height: 1; border-radius: 0.35em; text-transform: uppercase; vertical-align: middle; margin-left: 0.5rem\">B_Disease</span>\n",
              "</mark>\n",
              " \n",
              "<mark class=\"entity\" style=\"background: #ddd; padding: 0.45em 0.6em; margin: 0 0.25em; line-height: 1; border-radius: 0.35em;\">\n",
              "    tachycardia\n",
              "    <span style=\"font-size: 0.8em; font-weight: bold; line-height: 1; border-radius: 0.35em; text-transform: uppercase; vertical-align: middle; margin-left: 0.5rem\">I_Disease</span>\n",
              "</mark>\n",
              " during low dose intermittent dobutamine treatment in a patient with \n",
              "<mark class=\"entity\" style=\"background: #ddd; padding: 0.45em 0.6em; margin: 0 0.25em; line-height: 1; border-radius: 0.35em;\">\n",
              "    dilated\n",
              "    <span style=\"font-size: 0.8em; font-weight: bold; line-height: 1; border-radius: 0.35em; text-transform: uppercase; vertical-align: middle; margin-left: 0.5rem\">B_Disease</span>\n",
              "</mark>\n",
              " \n",
              "<mark class=\"entity\" style=\"background: #ddd; padding: 0.45em 0.6em; margin: 0 0.25em; line-height: 1; border-radius: 0.35em;\">\n",
              "    cardiomyopathy\n",
              "    <span style=\"font-size: 0.8em; font-weight: bold; line-height: 1; border-radius: 0.35em; text-transform: uppercase; vertical-align: middle; margin-left: 0.5rem\">I_Disease</span>\n",
              "</mark>\n",
              " and congestive \n",
              "<mark class=\"entity\" style=\"background: #ddd; padding: 0.45em 0.6em; margin: 0 0.25em; line-height: 1; border-radius: 0.35em;\">\n",
              "    heart\n",
              "    <span style=\"font-size: 0.8em; font-weight: bold; line-height: 1; border-radius: 0.35em; text-transform: uppercase; vertical-align: middle; margin-left: 0.5rem\">B_Disease</span>\n",
              "</mark>\n",
              " \n",
              "<mark class=\"entity\" style=\"background: #ddd; padding: 0.45em 0.6em; margin: 0 0.25em; line-height: 1; border-radius: 0.35em;\">\n",
              "    failure\n",
              "    <span style=\"font-size: 0.8em; font-weight: bold; line-height: 1; border-radius: 0.35em; text-transform: uppercase; vertical-align: middle; margin-left: 0.5rem\">I_Disease</span>\n",
              "</mark>\n",
              " .</div></span>"
            ],
            "text/plain": [
              "<IPython.core.display.HTML object>"
            ]
          },
          "metadata": {}
        },
        {
          "output_type": "stream",
          "name": "stdout",
          "text": [
            "heart 79 84 B_Disease\n",
            "failure 85 92 I_Disease\n",
            "dilated 106 113 B_Disease\n",
            "cardiomyopathy 114 128 I_Disease\n",
            "ventricular 156 167 B_Disease\n",
            "arrhythmias 168 179 I_Disease\n",
            "torsade 214 221 B_Disease\n",
            "ventricular 233 244 B_Disease\n",
            "tachycardia 245 256 I_Disease\n"
          ]
        },
        {
          "output_type": "display_data",
          "data": {
            "text/html": [
              "<span class=\"tex2jax_ignore\"><div class=\"entities\" style=\"line-height: 2.5; direction: ltr\">The authors describe the case of a 56 - year - old woman with chronic , severe \n",
              "<mark class=\"entity\" style=\"background: #ddd; padding: 0.45em 0.6em; margin: 0 0.25em; line-height: 1; border-radius: 0.35em;\">\n",
              "    heart\n",
              "    <span style=\"font-size: 0.8em; font-weight: bold; line-height: 1; border-radius: 0.35em; text-transform: uppercase; vertical-align: middle; margin-left: 0.5rem\">B_Disease</span>\n",
              "</mark>\n",
              " \n",
              "<mark class=\"entity\" style=\"background: #ddd; padding: 0.45em 0.6em; margin: 0 0.25em; line-height: 1; border-radius: 0.35em;\">\n",
              "    failure\n",
              "    <span style=\"font-size: 0.8em; font-weight: bold; line-height: 1; border-radius: 0.35em; text-transform: uppercase; vertical-align: middle; margin-left: 0.5rem\">I_Disease</span>\n",
              "</mark>\n",
              " secondary to \n",
              "<mark class=\"entity\" style=\"background: #ddd; padding: 0.45em 0.6em; margin: 0 0.25em; line-height: 1; border-radius: 0.35em;\">\n",
              "    dilated\n",
              "    <span style=\"font-size: 0.8em; font-weight: bold; line-height: 1; border-radius: 0.35em; text-transform: uppercase; vertical-align: middle; margin-left: 0.5rem\">B_Disease</span>\n",
              "</mark>\n",
              " \n",
              "<mark class=\"entity\" style=\"background: #ddd; padding: 0.45em 0.6em; margin: 0 0.25em; line-height: 1; border-radius: 0.35em;\">\n",
              "    cardiomyopathy\n",
              "    <span style=\"font-size: 0.8em; font-weight: bold; line-height: 1; border-radius: 0.35em; text-transform: uppercase; vertical-align: middle; margin-left: 0.5rem\">I_Disease</span>\n",
              "</mark>\n",
              " and absence of significant \n",
              "<mark class=\"entity\" style=\"background: #ddd; padding: 0.45em 0.6em; margin: 0 0.25em; line-height: 1; border-radius: 0.35em;\">\n",
              "    ventricular\n",
              "    <span style=\"font-size: 0.8em; font-weight: bold; line-height: 1; border-radius: 0.35em; text-transform: uppercase; vertical-align: middle; margin-left: 0.5rem\">B_Disease</span>\n",
              "</mark>\n",
              " \n",
              "<mark class=\"entity\" style=\"background: #ddd; padding: 0.45em 0.6em; margin: 0 0.25em; line-height: 1; border-radius: 0.35em;\">\n",
              "    arrhythmias\n",
              "    <span style=\"font-size: 0.8em; font-weight: bold; line-height: 1; border-radius: 0.35em; text-transform: uppercase; vertical-align: middle; margin-left: 0.5rem\">I_Disease</span>\n",
              "</mark>\n",
              " who developed QT prolongation and \n",
              "<mark class=\"entity\" style=\"background: #ddd; padding: 0.45em 0.6em; margin: 0 0.25em; line-height: 1; border-radius: 0.35em;\">\n",
              "    torsade\n",
              "    <span style=\"font-size: 0.8em; font-weight: bold; line-height: 1; border-radius: 0.35em; text-transform: uppercase; vertical-align: middle; margin-left: 0.5rem\">B_Disease</span>\n",
              "</mark>\n",
              " de pointes \n",
              "<mark class=\"entity\" style=\"background: #ddd; padding: 0.45em 0.6em; margin: 0 0.25em; line-height: 1; border-radius: 0.35em;\">\n",
              "    ventricular\n",
              "    <span style=\"font-size: 0.8em; font-weight: bold; line-height: 1; border-radius: 0.35em; text-transform: uppercase; vertical-align: middle; margin-left: 0.5rem\">B_Disease</span>\n",
              "</mark>\n",
              " \n",
              "<mark class=\"entity\" style=\"background: #ddd; padding: 0.45em 0.6em; margin: 0 0.25em; line-height: 1; border-radius: 0.35em;\">\n",
              "    tachycardia\n",
              "    <span style=\"font-size: 0.8em; font-weight: bold; line-height: 1; border-radius: 0.35em; text-transform: uppercase; vertical-align: middle; margin-left: 0.5rem\">I_Disease</span>\n",
              "</mark>\n",
              " during one cycle of intermittent low dose ( 2 . 5 mcg / kg per min ) dobutamine .</div></span>"
            ],
            "text/plain": [
              "<IPython.core.display.HTML object>"
            ]
          },
          "metadata": {}
        },
        {
          "output_type": "stream",
          "name": "stdout",
          "text": [
            "torsade 15 22 B_Disease\n",
            "ventricular 34 45 B_Disease\n",
            "tachycardia 46 57 I_Disease\n",
            "arrhythmias 138 149 B_Disease\n",
            "rhythm 227 233 B_Disease\n",
            "disturbances 234 246 I_Disease\n"
          ]
        },
        {
          "output_type": "display_data",
          "data": {
            "text/html": [
              "<span class=\"tex2jax_ignore\"><div class=\"entities\" style=\"line-height: 2.5; direction: ltr\">This report of \n",
              "<mark class=\"entity\" style=\"background: #ddd; padding: 0.45em 0.6em; margin: 0 0.25em; line-height: 1; border-radius: 0.35em;\">\n",
              "    torsade\n",
              "    <span style=\"font-size: 0.8em; font-weight: bold; line-height: 1; border-radius: 0.35em; text-transform: uppercase; vertical-align: middle; margin-left: 0.5rem\">B_Disease</span>\n",
              "</mark>\n",
              " de pointes \n",
              "<mark class=\"entity\" style=\"background: #ddd; padding: 0.45em 0.6em; margin: 0 0.25em; line-height: 1; border-radius: 0.35em;\">\n",
              "    ventricular\n",
              "    <span style=\"font-size: 0.8em; font-weight: bold; line-height: 1; border-radius: 0.35em; text-transform: uppercase; vertical-align: middle; margin-left: 0.5rem\">B_Disease</span>\n",
              "</mark>\n",
              " \n",
              "<mark class=\"entity\" style=\"background: #ddd; padding: 0.45em 0.6em; margin: 0 0.25em; line-height: 1; border-radius: 0.35em;\">\n",
              "    tachycardia\n",
              "    <span style=\"font-size: 0.8em; font-weight: bold; line-height: 1; border-radius: 0.35em; text-transform: uppercase; vertical-align: middle; margin-left: 0.5rem\">I_Disease</span>\n",
              "</mark>\n",
              " during intermittent dobutamine supports the hypothesis that unpredictable fatal \n",
              "<mark class=\"entity\" style=\"background: #ddd; padding: 0.45em 0.6em; margin: 0 0.25em; line-height: 1; border-radius: 0.35em;\">\n",
              "    arrhythmias\n",
              "    <span style=\"font-size: 0.8em; font-weight: bold; line-height: 1; border-radius: 0.35em; text-transform: uppercase; vertical-align: middle; margin-left: 0.5rem\">B_Disease</span>\n",
              "</mark>\n",
              " may occur even with low doses and in patients with no history of significant \n",
              "<mark class=\"entity\" style=\"background: #ddd; padding: 0.45em 0.6em; margin: 0 0.25em; line-height: 1; border-radius: 0.35em;\">\n",
              "    rhythm\n",
              "    <span style=\"font-size: 0.8em; font-weight: bold; line-height: 1; border-radius: 0.35em; text-transform: uppercase; vertical-align: middle; margin-left: 0.5rem\">B_Disease</span>\n",
              "</mark>\n",
              " \n",
              "<mark class=\"entity\" style=\"background: #ddd; padding: 0.45em 0.6em; margin: 0 0.25em; line-height: 1; border-radius: 0.35em;\">\n",
              "    disturbances\n",
              "    <span style=\"font-size: 0.8em; font-weight: bold; line-height: 1; border-radius: 0.35em; text-transform: uppercase; vertical-align: middle; margin-left: 0.5rem\">I_Disease</span>\n",
              "</mark>\n",
              " .</div></span>"
            ],
            "text/plain": [
              "<IPython.core.display.HTML object>"
            ]
          },
          "metadata": {}
        },
        {
          "output_type": "stream",
          "name": "stdout",
          "text": [
            "dyspnea 109 116 B_Disease\n",
            "loss 119 123 B_Disease\n",
            "of 124 126 I_Disease\n",
            "consciousness 127 140 I_Disease\n",
            "rash 171 175 B_Disease\n",
            "sensation 237 246 B_Disease\n",
            "heat 250 254 I_Disease\n",
            "pain 268 272 B_Disease\n"
          ]
        },
        {
          "output_type": "display_data",
          "data": {
            "text/html": [
              "<span class=\"tex2jax_ignore\"><div class=\"entities\" style=\"line-height: 2.5; direction: ltr\">After angiography by the venous route in patient n degree 1 a biphasic reaction with an immediate reaction ( \n",
              "<mark class=\"entity\" style=\"background: #ddd; padding: 0.45em 0.6em; margin: 0 0.25em; line-height: 1; border-radius: 0.35em;\">\n",
              "    dyspnea\n",
              "    <span style=\"font-size: 0.8em; font-weight: bold; line-height: 1; border-radius: 0.35em; text-transform: uppercase; vertical-align: middle; margin-left: 0.5rem\">B_Disease</span>\n",
              "</mark>\n",
              " , \n",
              "<mark class=\"entity\" style=\"background: #ddd; padding: 0.45em 0.6em; margin: 0 0.25em; line-height: 1; border-radius: 0.35em;\">\n",
              "    loss\n",
              "    <span style=\"font-size: 0.8em; font-weight: bold; line-height: 1; border-radius: 0.35em; text-transform: uppercase; vertical-align: middle; margin-left: 0.5rem\">B_Disease</span>\n",
              "</mark>\n",
              " \n",
              "<mark class=\"entity\" style=\"background: #ddd; padding: 0.45em 0.6em; margin: 0 0.25em; line-height: 1; border-radius: 0.35em;\">\n",
              "    of\n",
              "    <span style=\"font-size: 0.8em; font-weight: bold; line-height: 1; border-radius: 0.35em; text-transform: uppercase; vertical-align: middle; margin-left: 0.5rem\">I_Disease</span>\n",
              "</mark>\n",
              " \n",
              "<mark class=\"entity\" style=\"background: #ddd; padding: 0.45em 0.6em; margin: 0 0.25em; line-height: 1; border-radius: 0.35em;\">\n",
              "    consciousness\n",
              "    <span style=\"font-size: 0.8em; font-weight: bold; line-height: 1; border-radius: 0.35em; text-transform: uppercase; vertical-align: middle; margin-left: 0.5rem\">I_Disease</span>\n",
              "</mark>\n",
              " ) and delayed macro - papular \n",
              "<mark class=\"entity\" style=\"background: #ddd; padding: 0.45em 0.6em; margin: 0 0.25em; line-height: 1; border-radius: 0.35em;\">\n",
              "    rash\n",
              "    <span style=\"font-size: 0.8em; font-weight: bold; line-height: 1; border-radius: 0.35em; text-transform: uppercase; vertical-align: middle; margin-left: 0.5rem\">B_Disease</span>\n",
              "</mark>\n",
              " appeared , whilst patient n degree 2 developed a generalised \n",
              "<mark class=\"entity\" style=\"background: #ddd; padding: 0.45em 0.6em; margin: 0 0.25em; line-height: 1; border-radius: 0.35em;\">\n",
              "    sensation\n",
              "    <span style=\"font-size: 0.8em; font-weight: bold; line-height: 1; border-radius: 0.35em; text-transform: uppercase; vertical-align: middle; margin-left: 0.5rem\">B_Disease</span>\n",
              "</mark>\n",
              " of \n",
              "<mark class=\"entity\" style=\"background: #ddd; padding: 0.45em 0.6em; margin: 0 0.25em; line-height: 1; border-radius: 0.35em;\">\n",
              "    heat\n",
              "    <span style=\"font-size: 0.8em; font-weight: bold; line-height: 1; border-radius: 0.35em; text-transform: uppercase; vertical-align: middle; margin-left: 0.5rem\">I_Disease</span>\n",
              "</mark>\n",
              " , persistent \n",
              "<mark class=\"entity\" style=\"background: #ddd; padding: 0.45em 0.6em; margin: 0 0.25em; line-height: 1; border-radius: 0.35em;\">\n",
              "    pain\n",
              "    <span style=\"font-size: 0.8em; font-weight: bold; line-height: 1; border-radius: 0.35em; text-transform: uppercase; vertical-align: middle; margin-left: 0.5rem\">B_Disease</span>\n",
              "</mark>\n",
              " at the site of injection immediately and a generalised macro - papular reaction after 24 hours .</div></span>"
            ],
            "text/plain": [
              "<IPython.core.display.HTML object>"
            ]
          },
          "metadata": {}
        },
        {
          "output_type": "stream",
          "name": "stdout",
          "text": [
            "allergy 94 101 B_Disease\n"
          ]
        },
        {
          "output_type": "display_data",
          "data": {
            "text/html": [
              "<span class=\"tex2jax_ignore\"><div class=\"entities\" style=\"line-height: 2.5; direction: ltr\">The positive skin tests are in favour of immunological reactions and may help in diagnosis of \n",
              "<mark class=\"entity\" style=\"background: #ddd; padding: 0.45em 0.6em; margin: 0 0.25em; line-height: 1; border-radius: 0.35em;\">\n",
              "    allergy\n",
              "    <span style=\"font-size: 0.8em; font-weight: bold; line-height: 1; border-radius: 0.35em; text-transform: uppercase; vertical-align: middle; margin-left: 0.5rem\">B_Disease</span>\n",
              "</mark>\n",
              " in the patients .</div></span>"
            ],
            "text/plain": [
              "<IPython.core.display.HTML object>"
            ]
          },
          "metadata": {}
        }
      ]
    },
    {
      "cell_type": "code",
      "metadata": {
        "colab": {
          "base_uri": "https://localhost:8080/",
          "height": 155
        },
        "id": "WRUHtuCniaKe",
        "outputId": "4cde9b16-2912-4cb9-e62d-d864e05554a2"
      },
      "source": [
        "ner = load_model(\"/content/spacy_example\")\n",
        "doc = ner(\"Selegiline - induced postural hypotension in Parkinson ' s disease : a longitudinal study on the effects of drug withdrawal.The aims of this study were to confirm our previous findings in a separate cohort of patients and to determine the time course of the cardiovascular consequences of stopping selegiline in the expectation that this might shed light on the mechanisms by which the drug causes orthostatic hypotension\")\n",
        "displacy.render(doc,jupyter=True, style = \"ent\")"
      ],
      "execution_count": 12,
      "outputs": [
        {
          "output_type": "display_data",
          "data": {
            "text/html": [
              "<span class=\"tex2jax_ignore\"><div class=\"entities\" style=\"line-height: 2.5; direction: ltr\">Selegiline - induced \n",
              "<mark class=\"entity\" style=\"background: #ddd; padding: 0.45em 0.6em; margin: 0 0.25em; line-height: 1; border-radius: 0.35em;\">\n",
              "    postural\n",
              "    <span style=\"font-size: 0.8em; font-weight: bold; line-height: 1; border-radius: 0.35em; text-transform: uppercase; vertical-align: middle; margin-left: 0.5rem\">B_Disease</span>\n",
              "</mark>\n",
              " \n",
              "<mark class=\"entity\" style=\"background: #ddd; padding: 0.45em 0.6em; margin: 0 0.25em; line-height: 1; border-radius: 0.35em;\">\n",
              "    hypotension\n",
              "    <span style=\"font-size: 0.8em; font-weight: bold; line-height: 1; border-radius: 0.35em; text-transform: uppercase; vertical-align: middle; margin-left: 0.5rem\">I_Disease</span>\n",
              "</mark>\n",
              " in \n",
              "<mark class=\"entity\" style=\"background: #ddd; padding: 0.45em 0.6em; margin: 0 0.25em; line-height: 1; border-radius: 0.35em;\">\n",
              "    Parkinson\n",
              "    <span style=\"font-size: 0.8em; font-weight: bold; line-height: 1; border-radius: 0.35em; text-transform: uppercase; vertical-align: middle; margin-left: 0.5rem\">B_Disease</span>\n",
              "</mark>\n",
              " \n",
              "<mark class=\"entity\" style=\"background: #ddd; padding: 0.45em 0.6em; margin: 0 0.25em; line-height: 1; border-radius: 0.35em;\">\n",
              "    '\n",
              "    <span style=\"font-size: 0.8em; font-weight: bold; line-height: 1; border-radius: 0.35em; text-transform: uppercase; vertical-align: middle; margin-left: 0.5rem\">I_Disease</span>\n",
              "</mark>\n",
              " \n",
              "<mark class=\"entity\" style=\"background: #ddd; padding: 0.45em 0.6em; margin: 0 0.25em; line-height: 1; border-radius: 0.35em;\">\n",
              "    s\n",
              "    <span style=\"font-size: 0.8em; font-weight: bold; line-height: 1; border-radius: 0.35em; text-transform: uppercase; vertical-align: middle; margin-left: 0.5rem\">I_Disease</span>\n",
              "</mark>\n",
              " \n",
              "<mark class=\"entity\" style=\"background: #ddd; padding: 0.45em 0.6em; margin: 0 0.25em; line-height: 1; border-radius: 0.35em;\">\n",
              "    disease\n",
              "    <span style=\"font-size: 0.8em; font-weight: bold; line-height: 1; border-radius: 0.35em; text-transform: uppercase; vertical-align: middle; margin-left: 0.5rem\">I_Disease</span>\n",
              "</mark>\n",
              " : a longitudinal study on the effects of drug withdrawal.The aims of this study were to confirm our previous findings in a separate cohort of patients and to determine the time course of the cardiovascular consequences of stopping selegiline in the expectation that this might shed light on the mechanisms by which the drug causes \n",
              "<mark class=\"entity\" style=\"background: #ddd; padding: 0.45em 0.6em; margin: 0 0.25em; line-height: 1; border-radius: 0.35em;\">\n",
              "    orthostatic\n",
              "    <span style=\"font-size: 0.8em; font-weight: bold; line-height: 1; border-radius: 0.35em; text-transform: uppercase; vertical-align: middle; margin-left: 0.5rem\">B_Disease</span>\n",
              "</mark>\n",
              " \n",
              "<mark class=\"entity\" style=\"background: #ddd; padding: 0.45em 0.6em; margin: 0 0.25em; line-height: 1; border-radius: 0.35em;\">\n",
              "    hypotension\n",
              "    <span style=\"font-size: 0.8em; font-weight: bold; line-height: 1; border-radius: 0.35em; text-transform: uppercase; vertical-align: middle; margin-left: 0.5rem\">I_Disease</span>\n",
              "</mark>\n",
              "</div></span>"
            ],
            "text/plain": [
              "<IPython.core.display.HTML object>"
            ]
          },
          "metadata": {}
        }
      ]
    },
    {
      "cell_type": "code",
      "metadata": {
        "colab": {
          "base_uri": "https://localhost:8080/",
          "height": 86
        },
        "id": "zBrTDHmzYEdU",
        "outputId": "4966aa69-bd87-443e-dfd2-998509613357"
      },
      "source": [
        "ner = load_model(\"/content/spacy_example\")\n",
        "doc = ner(\"CD4 T cells are white blood cells that are specifically targeted and destroyed by HIV. Even if you have no symptoms, HIV infection progresses to AIDS when your CD4 T cell count dips below 200\")\n",
        "displacy.render(doc,jupyter=True, style = \"ent\")"
      ],
      "execution_count": 13,
      "outputs": [
        {
          "output_type": "display_data",
          "data": {
            "text/html": [
              "<span class=\"tex2jax_ignore\"><div class=\"entities\" style=\"line-height: 2.5; direction: ltr\">CD4 T cells are white blood cells that are specifically targeted and destroyed by \n",
              "<mark class=\"entity\" style=\"background: #ddd; padding: 0.45em 0.6em; margin: 0 0.25em; line-height: 1; border-radius: 0.35em;\">\n",
              "    HIV\n",
              "    <span style=\"font-size: 0.8em; font-weight: bold; line-height: 1; border-radius: 0.35em; text-transform: uppercase; vertical-align: middle; margin-left: 0.5rem\">B_Disease</span>\n",
              "</mark>\n",
              ". Even if you have no symptoms, \n",
              "<mark class=\"entity\" style=\"background: #ddd; padding: 0.45em 0.6em; margin: 0 0.25em; line-height: 1; border-radius: 0.35em;\">\n",
              "    HIV\n",
              "    <span style=\"font-size: 0.8em; font-weight: bold; line-height: 1; border-radius: 0.35em; text-transform: uppercase; vertical-align: middle; margin-left: 0.5rem\">B_Disease</span>\n",
              "</mark>\n",
              " \n",
              "<mark class=\"entity\" style=\"background: #ddd; padding: 0.45em 0.6em; margin: 0 0.25em; line-height: 1; border-radius: 0.35em;\">\n",
              "    infection\n",
              "    <span style=\"font-size: 0.8em; font-weight: bold; line-height: 1; border-radius: 0.35em; text-transform: uppercase; vertical-align: middle; margin-left: 0.5rem\">I_Disease</span>\n",
              "</mark>\n",
              " progresses to \n",
              "<mark class=\"entity\" style=\"background: #ddd; padding: 0.45em 0.6em; margin: 0 0.25em; line-height: 1; border-radius: 0.35em;\">\n",
              "    AIDS\n",
              "    <span style=\"font-size: 0.8em; font-weight: bold; line-height: 1; border-radius: 0.35em; text-transform: uppercase; vertical-align: middle; margin-left: 0.5rem\">B_Disease</span>\n",
              "</mark>\n",
              " when your CD4 T cell count dips below 200</div></span>"
            ],
            "text/plain": [
              "<IPython.core.display.HTML object>"
            ]
          },
          "metadata": {}
        }
      ]
    },
    {
      "cell_type": "code",
      "metadata": {
        "colab": {
          "base_uri": "https://localhost:8080/",
          "height": 121
        },
        "id": "-4JqZO1V3wk2",
        "outputId": "771c326a-edea-444e-fe25-d8f1b5d267d3"
      },
      "source": [
        "ner = load_model(\"/content/spacy_example\")\n",
        "doc = ner(\"Deep brain stimulation (DBS): A new surgical procedure that is very effective in treating Parkinson's disease. The surgery includes the implantation of permanent electrodes in various parts of the brain through which continuous pulses of electricity are given to control the symptoms of Parkinson's.\")\n",
        "displacy.render(doc,jupyter=True, style = \"ent\")"
      ],
      "execution_count": 14,
      "outputs": [
        {
          "output_type": "display_data",
          "data": {
            "text/html": [
              "<span class=\"tex2jax_ignore\"><div class=\"entities\" style=\"line-height: 2.5; direction: ltr\">Deep brain stimulation (DBS): A new surgical procedure that is very effective in treating \n",
              "<mark class=\"entity\" style=\"background: #ddd; padding: 0.45em 0.6em; margin: 0 0.25em; line-height: 1; border-radius: 0.35em;\">\n",
              "    Parkinson\n",
              "    <span style=\"font-size: 0.8em; font-weight: bold; line-height: 1; border-radius: 0.35em; text-transform: uppercase; vertical-align: middle; margin-left: 0.5rem\">B_Disease</span>\n",
              "</mark>\n",
              "\n",
              "<mark class=\"entity\" style=\"background: #ddd; padding: 0.45em 0.6em; margin: 0 0.25em; line-height: 1; border-radius: 0.35em;\">\n",
              "    's\n",
              "    <span style=\"font-size: 0.8em; font-weight: bold; line-height: 1; border-radius: 0.35em; text-transform: uppercase; vertical-align: middle; margin-left: 0.5rem\">I_Disease</span>\n",
              "</mark>\n",
              " \n",
              "<mark class=\"entity\" style=\"background: #ddd; padding: 0.45em 0.6em; margin: 0 0.25em; line-height: 1; border-radius: 0.35em;\">\n",
              "    disease\n",
              "    <span style=\"font-size: 0.8em; font-weight: bold; line-height: 1; border-radius: 0.35em; text-transform: uppercase; vertical-align: middle; margin-left: 0.5rem\">I_Disease</span>\n",
              "</mark>\n",
              ". The surgery includes the implantation of permanent electrodes in various parts of the brain through which continuous pulses of electricity are given to control the symptoms of \n",
              "<mark class=\"entity\" style=\"background: #ddd; padding: 0.45em 0.6em; margin: 0 0.25em; line-height: 1; border-radius: 0.35em;\">\n",
              "    Parkinson\n",
              "    <span style=\"font-size: 0.8em; font-weight: bold; line-height: 1; border-radius: 0.35em; text-transform: uppercase; vertical-align: middle; margin-left: 0.5rem\">B_Disease</span>\n",
              "</mark>\n",
              "'s.</div></span>"
            ],
            "text/plain": [
              "<IPython.core.display.HTML object>"
            ]
          },
          "metadata": {}
        }
      ]
    }
  ]
}